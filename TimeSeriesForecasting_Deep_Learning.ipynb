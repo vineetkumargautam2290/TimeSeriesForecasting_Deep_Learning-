{
  "nbformat": 4,
  "nbformat_minor": 0,
  "metadata": {
    "colab": {
      "provenance": []
    },
    "kernelspec": {
      "name": "python3",
      "display_name": "Python 3"
    },
    "language_info": {
      "name": "python"
    }
  },
  "cells": [
    {
      "cell_type": "markdown",
      "metadata": {
        "id": "qr7dpt_gEjHP"
      },
      "source": [
        "#**TimeSeriesForecasting_Deep_Learning**"
      ]
    },
    {
      "cell_type": "markdown",
      "metadata": {
        "id": "TNigF4HPOcAb"
      },
      "source": [
        "## LSTM model"
      ]
    },
    {
      "cell_type": "code",
      "execution_count": null,
      "metadata": {
        "id": "FGpWCz86OH9n"
      },
      "outputs": [],
      "source": [
        "import numpy as np\n",
        "import pandas as pd\n",
        "import tensorflow as tf\n",
        "from tensorflow import keras\n",
        "from keras import Sequential\n",
        "from keras.layers import LSTM, Dense, Flatten, Bidirectional, GRU, SimpleRNN"
      ]
    },
    {
      "cell_type": "code",
      "execution_count": null,
      "metadata": {
        "id": "SDoMEbjuOT6z"
      },
      "outputs": [],
      "source": [
        "def prepare_data(timeseries_data, n_features):\n",
        "  x, y = [],[]\n",
        "  for i in range(len(timeseries_data)):\n",
        "    end_ix = i + n_features\n",
        "    if end_ix > len(timeseries_data) -1:\n",
        "      break\n",
        "    seq_x, seq_y = timeseries_data[i:end_ix], timeseries_data[end_ix]\n",
        "    x.append(seq_x)\n",
        "    y.append(seq_y)\n",
        "  return np.array(x), np.array(y)"
      ]
    },
    {
      "cell_type": "code",
      "execution_count": null,
      "metadata": {
        "id": "Cx6OdF2COT-r"
      },
      "outputs": [],
      "source": [
        "timeseries_data = [100,120,135,145,150,160,185,200,225,300]\n",
        "n_steps = 3\n",
        "x, y = prepare_data(timeseries_data, n_steps)"
      ]
    },
    {
      "cell_type": "code",
      "execution_count": null,
      "metadata": {
        "colab": {
          "base_uri": "https://localhost:8080/"
        },
        "id": "nTW482N8OUBw",
        "outputId": "ab04b163-240b-40b6-8e03-fdc82cdfee68"
      },
      "outputs": [
        {
          "name": "stdout",
          "output_type": "stream",
          "text": [
            "[[100 120 135]\n",
            " [120 135 145]\n",
            " [135 145 150]\n",
            " [145 150 160]\n",
            " [150 160 185]\n",
            " [160 185 200]\n",
            " [185 200 225]]\n"
          ]
        }
      ],
      "source": [
        "print(x)"
      ]
    },
    {
      "cell_type": "code",
      "execution_count": null,
      "metadata": {
        "colab": {
          "base_uri": "https://localhost:8080/"
        },
        "id": "0abAxdKrOUEt",
        "outputId": "817c4593-895f-48c4-a7a3-e38622c390ea"
      },
      "outputs": [
        {
          "name": "stdout",
          "output_type": "stream",
          "text": [
            "[145 150 160 185 200 225 300]\n"
          ]
        }
      ],
      "source": [
        "print(y)"
      ]
    },
    {
      "cell_type": "code",
      "execution_count": null,
      "metadata": {
        "colab": {
          "base_uri": "https://localhost:8080/"
        },
        "id": "Yb4rb_OgOUIL",
        "outputId": "2dee9b10-25b3-48fb-ac2b-f2039c61edd2"
      },
      "outputs": [
        {
          "data": {
            "text/plain": [
              "(7, 3)"
            ]
          },
          "execution_count": 6,
          "metadata": {},
          "output_type": "execute_result"
        }
      ],
      "source": [
        "x.shape"
      ]
    },
    {
      "cell_type": "code",
      "execution_count": null,
      "metadata": {
        "colab": {
          "base_uri": "https://localhost:8080/"
        },
        "id": "Xw0xW7WqOULP",
        "outputId": "011360a5-779d-40e8-8bb1-dca767710450"
      },
      "outputs": [
        {
          "data": {
            "text/plain": [
              "(7,)"
            ]
          },
          "execution_count": 7,
          "metadata": {},
          "output_type": "execute_result"
        }
      ],
      "source": [
        "y.shape"
      ]
    },
    {
      "cell_type": "code",
      "execution_count": null,
      "metadata": {
        "id": "u6-XEbcKOUO3"
      },
      "outputs": [],
      "source": [
        "# reshape from [sample, timesteps] into [samples, timesteps, features]\n",
        "n_features = 1\n",
        "x = x.reshape(x.shape[0], x.shape[1], n_features)"
      ]
    },
    {
      "cell_type": "code",
      "execution_count": null,
      "metadata": {
        "colab": {
          "base_uri": "https://localhost:8080/"
        },
        "id": "pc9UEWIWOUjv",
        "outputId": "1e8abb3c-fe9d-45f1-8e90-9c92da1655da"
      },
      "outputs": [
        {
          "name": "stderr",
          "output_type": "stream",
          "text": [
            "WARNING:tensorflow:Layer lstm will not use cuDNN kernels since it doesn't meet the criteria. It will use a generic GPU kernel as fallback when running on GPU.\n",
            "WARNING:tensorflow:Layer lstm_1 will not use cuDNN kernels since it doesn't meet the criteria. It will use a generic GPU kernel as fallback when running on GPU.\n"
          ]
        },
        {
          "name": "stdout",
          "output_type": "stream",
          "text": [
            "Epoch 1/200\n",
            "1/1 [==============================] - 7s 7s/step - loss: 41140.3672\n",
            "Epoch 2/200\n",
            "1/1 [==============================] - 0s 20ms/step - loss: 40575.3711\n",
            "Epoch 3/200\n",
            "1/1 [==============================] - 0s 21ms/step - loss: 40202.2539\n",
            "Epoch 4/200\n",
            "1/1 [==============================] - 0s 19ms/step - loss: 39917.3750\n",
            "Epoch 5/200\n",
            "1/1 [==============================] - 0s 18ms/step - loss: 39660.9453\n",
            "Epoch 6/200\n",
            "1/1 [==============================] - 0s 24ms/step - loss: 39390.3438\n",
            "Epoch 7/200\n",
            "1/1 [==============================] - 0s 21ms/step - loss: 39060.3242\n",
            "Epoch 8/200\n",
            "1/1 [==============================] - 0s 22ms/step - loss: 38598.5859\n",
            "Epoch 9/200\n",
            "1/1 [==============================] - 0s 21ms/step - loss: 37894.6445\n",
            "Epoch 10/200\n",
            "1/1 [==============================] - 0s 20ms/step - loss: 36910.8711\n",
            "Epoch 11/200\n",
            "1/1 [==============================] - 0s 27ms/step - loss: 35867.5938\n",
            "Epoch 12/200\n",
            "1/1 [==============================] - 0s 20ms/step - loss: 34999.2188\n",
            "Epoch 13/200\n",
            "1/1 [==============================] - 0s 22ms/step - loss: 34261.8867\n",
            "Epoch 14/200\n",
            "1/1 [==============================] - 0s 22ms/step - loss: 33569.6055\n",
            "Epoch 15/200\n",
            "1/1 [==============================] - 0s 20ms/step - loss: 32876.5273\n",
            "Epoch 16/200\n",
            "1/1 [==============================] - 0s 20ms/step - loss: 32198.8633\n",
            "Epoch 17/200\n",
            "1/1 [==============================] - 0s 25ms/step - loss: 31511.4102\n",
            "Epoch 18/200\n",
            "1/1 [==============================] - 0s 24ms/step - loss: 30727.7773\n",
            "Epoch 19/200\n",
            "1/1 [==============================] - 0s 24ms/step - loss: 29831.3906\n",
            "Epoch 20/200\n",
            "1/1 [==============================] - 0s 22ms/step - loss: 28879.3301\n",
            "Epoch 21/200\n",
            "1/1 [==============================] - 0s 33ms/step - loss: 27893.3965\n",
            "Epoch 22/200\n",
            "1/1 [==============================] - 0s 21ms/step - loss: 26789.0586\n",
            "Epoch 23/200\n",
            "1/1 [==============================] - 0s 22ms/step - loss: 25427.4863\n",
            "Epoch 24/200\n",
            "1/1 [==============================] - 0s 20ms/step - loss: 23720.7812\n",
            "Epoch 25/200\n",
            "1/1 [==============================] - 0s 20ms/step - loss: 21566.6660\n",
            "Epoch 26/200\n",
            "1/1 [==============================] - 0s 20ms/step - loss: 19071.6895\n",
            "Epoch 27/200\n",
            "1/1 [==============================] - 0s 19ms/step - loss: 16811.2246\n",
            "Epoch 28/200\n",
            "1/1 [==============================] - 0s 19ms/step - loss: 15043.8506\n",
            "Epoch 29/200\n",
            "1/1 [==============================] - 0s 19ms/step - loss: 13563.8330\n",
            "Epoch 30/200\n",
            "1/1 [==============================] - 0s 20ms/step - loss: 12243.9482\n",
            "Epoch 31/200\n",
            "1/1 [==============================] - 0s 21ms/step - loss: 10950.4033\n",
            "Epoch 32/200\n",
            "1/1 [==============================] - 0s 22ms/step - loss: 9628.8887\n",
            "Epoch 33/200\n",
            "1/1 [==============================] - 0s 21ms/step - loss: 8335.8730\n",
            "Epoch 34/200\n",
            "1/1 [==============================] - 0s 22ms/step - loss: 7054.6611\n",
            "Epoch 35/200\n",
            "1/1 [==============================] - 0s 21ms/step - loss: 5759.7725\n",
            "Epoch 36/200\n",
            "1/1 [==============================] - 0s 20ms/step - loss: 4281.9233\n",
            "Epoch 37/200\n",
            "1/1 [==============================] - 0s 22ms/step - loss: 2614.0024\n",
            "Epoch 38/200\n",
            "1/1 [==============================] - 0s 22ms/step - loss: 1353.4474\n",
            "Epoch 39/200\n",
            "1/1 [==============================] - 0s 30ms/step - loss: 605.7948\n",
            "Epoch 40/200\n",
            "1/1 [==============================] - 0s 23ms/step - loss: 370.2407\n",
            "Epoch 41/200\n",
            "1/1 [==============================] - 0s 20ms/step - loss: 477.3180\n",
            "Epoch 42/200\n",
            "1/1 [==============================] - 0s 23ms/step - loss: 745.9079\n",
            "Epoch 43/200\n",
            "1/1 [==============================] - 0s 24ms/step - loss: 1009.2627\n",
            "Epoch 44/200\n",
            "1/1 [==============================] - 0s 21ms/step - loss: 1181.9738\n",
            "Epoch 45/200\n",
            "1/1 [==============================] - 0s 32ms/step - loss: 1241.1146\n",
            "Epoch 46/200\n",
            "1/1 [==============================] - 0s 26ms/step - loss: 1209.3730\n",
            "Epoch 47/200\n",
            "1/1 [==============================] - 0s 27ms/step - loss: 1126.2159\n",
            "Epoch 48/200\n",
            "1/1 [==============================] - 0s 23ms/step - loss: 1019.2364\n",
            "Epoch 49/200\n",
            "1/1 [==============================] - 0s 22ms/step - loss: 903.8633\n",
            "Epoch 50/200\n",
            "1/1 [==============================] - 0s 24ms/step - loss: 789.4158\n",
            "Epoch 51/200\n",
            "1/1 [==============================] - 0s 23ms/step - loss: 682.3187\n",
            "Epoch 52/200\n",
            "1/1 [==============================] - 0s 20ms/step - loss: 588.1593\n",
            "Epoch 53/200\n",
            "1/1 [==============================] - 0s 24ms/step - loss: 511.2126\n",
            "Epoch 54/200\n",
            "1/1 [==============================] - 0s 21ms/step - loss: 453.7870\n",
            "Epoch 55/200\n",
            "1/1 [==============================] - 0s 24ms/step - loss: 416.0725\n",
            "Epoch 56/200\n",
            "1/1 [==============================] - 0s 31ms/step - loss: 396.3954\n",
            "Epoch 57/200\n",
            "1/1 [==============================] - 0s 22ms/step - loss: 391.7611\n",
            "Epoch 58/200\n",
            "1/1 [==============================] - 0s 23ms/step - loss: 398.4890\n",
            "Epoch 59/200\n",
            "1/1 [==============================] - 0s 27ms/step - loss: 412.7229\n",
            "Epoch 60/200\n",
            "1/1 [==============================] - 0s 20ms/step - loss: 430.5934\n",
            "Epoch 61/200\n",
            "1/1 [==============================] - 0s 20ms/step - loss: 447.9936\n",
            "Epoch 62/200\n",
            "1/1 [==============================] - 0s 21ms/step - loss: 461.0102\n",
            "Epoch 63/200\n",
            "1/1 [==============================] - 0s 21ms/step - loss: 467.2617\n",
            "Epoch 64/200\n",
            "1/1 [==============================] - 0s 28ms/step - loss: 466.4502\n",
            "Epoch 65/200\n",
            "1/1 [==============================] - 0s 33ms/step - loss: 459.9741\n",
            "Epoch 66/200\n",
            "1/1 [==============================] - 0s 25ms/step - loss: 449.6369\n",
            "Epoch 67/200\n",
            "1/1 [==============================] - 0s 24ms/step - loss: 437.1166\n",
            "Epoch 68/200\n",
            "1/1 [==============================] - 0s 34ms/step - loss: 423.8522\n",
            "Epoch 69/200\n",
            "1/1 [==============================] - 0s 26ms/step - loss: 410.9525\n",
            "Epoch 70/200\n",
            "1/1 [==============================] - 0s 29ms/step - loss: 399.0779\n",
            "Epoch 71/200\n",
            "1/1 [==============================] - 0s 20ms/step - loss: 388.2283\n",
            "Epoch 72/200\n",
            "1/1 [==============================] - 0s 43ms/step - loss: 377.4312\n",
            "Epoch 73/200\n",
            "1/1 [==============================] - 0s 36ms/step - loss: 363.4444\n",
            "Epoch 74/200\n",
            "1/1 [==============================] - 0s 33ms/step - loss: 336.6108\n",
            "Epoch 75/200\n",
            "1/1 [==============================] - 0s 32ms/step - loss: 306.7680\n",
            "Epoch 76/200\n",
            "1/1 [==============================] - 0s 31ms/step - loss: 307.6788\n",
            "Epoch 77/200\n",
            "1/1 [==============================] - 0s 38ms/step - loss: 270.9843\n",
            "Epoch 78/200\n",
            "1/1 [==============================] - 0s 41ms/step - loss: 270.1888\n",
            "Epoch 79/200\n",
            "1/1 [==============================] - 0s 31ms/step - loss: 261.1657\n",
            "Epoch 80/200\n",
            "1/1 [==============================] - 0s 36ms/step - loss: 238.1387\n",
            "Epoch 81/200\n",
            "1/1 [==============================] - 0s 43ms/step - loss: 235.5426\n",
            "Epoch 82/200\n",
            "1/1 [==============================] - 0s 47ms/step - loss: 233.8434\n",
            "Epoch 83/200\n",
            "1/1 [==============================] - 0s 43ms/step - loss: 219.3900\n",
            "Epoch 84/200\n",
            "1/1 [==============================] - 0s 42ms/step - loss: 226.8450\n",
            "Epoch 85/200\n",
            "1/1 [==============================] - 0s 49ms/step - loss: 222.3025\n",
            "Epoch 86/200\n",
            "1/1 [==============================] - 0s 47ms/step - loss: 212.3756\n",
            "Epoch 87/200\n",
            "1/1 [==============================] - 0s 47ms/step - loss: 222.2059\n",
            "Epoch 88/200\n",
            "1/1 [==============================] - 0s 45ms/step - loss: 209.6891\n",
            "Epoch 89/200\n",
            "1/1 [==============================] - 0s 41ms/step - loss: 211.7596\n",
            "Epoch 90/200\n",
            "1/1 [==============================] - 0s 42ms/step - loss: 210.4340\n",
            "Epoch 91/200\n",
            "1/1 [==============================] - 0s 39ms/step - loss: 200.5737\n",
            "Epoch 92/200\n",
            "1/1 [==============================] - 0s 43ms/step - loss: 206.4254\n",
            "Epoch 93/200\n",
            "1/1 [==============================] - 0s 40ms/step - loss: 194.0749\n",
            "Epoch 94/200\n",
            "1/1 [==============================] - 0s 43ms/step - loss: 195.8020\n",
            "Epoch 95/200\n",
            "1/1 [==============================] - 0s 44ms/step - loss: 189.3951\n",
            "Epoch 96/200\n",
            "1/1 [==============================] - 0s 42ms/step - loss: 184.7284\n",
            "Epoch 97/200\n",
            "1/1 [==============================] - 0s 42ms/step - loss: 181.9531\n",
            "Epoch 98/200\n",
            "1/1 [==============================] - 0s 42ms/step - loss: 174.9659\n",
            "Epoch 99/200\n",
            "1/1 [==============================] - 0s 47ms/step - loss: 171.9642\n",
            "Epoch 100/200\n",
            "1/1 [==============================] - 0s 45ms/step - loss: 162.2742\n",
            "Epoch 101/200\n",
            "1/1 [==============================] - 0s 44ms/step - loss: 163.5926\n",
            "Epoch 102/200\n",
            "1/1 [==============================] - 0s 49ms/step - loss: 154.6927\n",
            "Epoch 103/200\n",
            "1/1 [==============================] - 0s 35ms/step - loss: 155.6675\n",
            "Epoch 104/200\n",
            "1/1 [==============================] - 0s 55ms/step - loss: 148.3411\n",
            "Epoch 105/200\n",
            "1/1 [==============================] - 0s 43ms/step - loss: 149.4276\n",
            "Epoch 106/200\n",
            "1/1 [==============================] - 0s 47ms/step - loss: 139.0343\n",
            "Epoch 107/200\n",
            "1/1 [==============================] - 0s 50ms/step - loss: 136.8116\n",
            "Epoch 108/200\n",
            "1/1 [==============================] - 0s 49ms/step - loss: 129.1570\n",
            "Epoch 109/200\n",
            "1/1 [==============================] - 0s 34ms/step - loss: 128.2336\n",
            "Epoch 110/200\n",
            "1/1 [==============================] - 0s 43ms/step - loss: 121.7112\n",
            "Epoch 111/200\n",
            "1/1 [==============================] - 0s 46ms/step - loss: 119.8486\n",
            "Epoch 112/200\n",
            "1/1 [==============================] - 0s 47ms/step - loss: 115.1597\n",
            "Epoch 113/200\n",
            "1/1 [==============================] - 0s 42ms/step - loss: 113.6254\n",
            "Epoch 114/200\n",
            "1/1 [==============================] - 0s 46ms/step - loss: 110.0304\n",
            "Epoch 115/200\n",
            "1/1 [==============================] - 0s 45ms/step - loss: 108.6266\n",
            "Epoch 116/200\n",
            "1/1 [==============================] - 0s 37ms/step - loss: 105.6219\n",
            "Epoch 117/200\n",
            "1/1 [==============================] - 0s 40ms/step - loss: 103.5821\n",
            "Epoch 118/200\n",
            "1/1 [==============================] - 0s 47ms/step - loss: 100.3530\n",
            "Epoch 119/200\n",
            "1/1 [==============================] - 0s 42ms/step - loss: 97.0697\n",
            "Epoch 120/200\n",
            "1/1 [==============================] - 0s 41ms/step - loss: 94.8891\n",
            "Epoch 121/200\n",
            "1/1 [==============================] - 0s 43ms/step - loss: 91.1173\n",
            "Epoch 122/200\n",
            "1/1 [==============================] - 0s 43ms/step - loss: 89.3929\n",
            "Epoch 123/200\n",
            "1/1 [==============================] - 0s 41ms/step - loss: 85.7032\n",
            "Epoch 124/200\n",
            "1/1 [==============================] - 0s 39ms/step - loss: 82.5511\n",
            "Epoch 125/200\n",
            "1/1 [==============================] - 0s 38ms/step - loss: 79.6244\n",
            "Epoch 126/200\n",
            "1/1 [==============================] - 0s 44ms/step - loss: 75.7289\n",
            "Epoch 127/200\n",
            "1/1 [==============================] - 0s 38ms/step - loss: 72.9043\n",
            "Epoch 128/200\n",
            "1/1 [==============================] - 0s 35ms/step - loss: 69.5990\n",
            "Epoch 129/200\n",
            "1/1 [==============================] - 0s 41ms/step - loss: 65.0962\n",
            "Epoch 130/200\n",
            "1/1 [==============================] - 0s 35ms/step - loss: 61.5731\n",
            "Epoch 131/200\n",
            "1/1 [==============================] - 0s 45ms/step - loss: 59.4059\n",
            "Epoch 132/200\n",
            "1/1 [==============================] - 0s 44ms/step - loss: 57.7536\n",
            "Epoch 133/200\n",
            "1/1 [==============================] - 0s 44ms/step - loss: 54.7717\n",
            "Epoch 134/200\n",
            "1/1 [==============================] - 0s 43ms/step - loss: 52.4206\n",
            "Epoch 135/200\n",
            "1/1 [==============================] - 0s 40ms/step - loss: 50.1560\n",
            "Epoch 136/200\n",
            "1/1 [==============================] - 0s 45ms/step - loss: 47.9697\n",
            "Epoch 137/200\n",
            "1/1 [==============================] - 0s 36ms/step - loss: 46.1767\n",
            "Epoch 138/200\n",
            "1/1 [==============================] - 0s 49ms/step - loss: 44.6444\n",
            "Epoch 139/200\n",
            "1/1 [==============================] - 0s 28ms/step - loss: 42.3568\n",
            "Epoch 140/200\n",
            "1/1 [==============================] - 0s 28ms/step - loss: 39.6365\n",
            "Epoch 141/200\n",
            "1/1 [==============================] - 0s 23ms/step - loss: 37.5503\n",
            "Epoch 142/200\n",
            "1/1 [==============================] - 0s 26ms/step - loss: 36.1197\n",
            "Epoch 143/200\n",
            "1/1 [==============================] - 0s 23ms/step - loss: 34.6812\n",
            "Epoch 144/200\n",
            "1/1 [==============================] - 0s 34ms/step - loss: 33.8652\n",
            "Epoch 145/200\n",
            "1/1 [==============================] - 0s 21ms/step - loss: 34.5863\n",
            "Epoch 146/200\n",
            "1/1 [==============================] - 0s 23ms/step - loss: 40.2415\n",
            "Epoch 147/200\n",
            "1/1 [==============================] - 0s 34ms/step - loss: 59.4320\n",
            "Epoch 148/200\n",
            "1/1 [==============================] - 0s 23ms/step - loss: 135.7263\n",
            "Epoch 149/200\n",
            "1/1 [==============================] - 0s 23ms/step - loss: 40.2443\n",
            "Epoch 150/200\n",
            "1/1 [==============================] - 0s 23ms/step - loss: 73.0761\n",
            "Epoch 151/200\n",
            "1/1 [==============================] - 0s 25ms/step - loss: 145.7732\n",
            "Epoch 152/200\n",
            "1/1 [==============================] - 0s 20ms/step - loss: 72.2743\n",
            "Epoch 153/200\n",
            "1/1 [==============================] - 0s 20ms/step - loss: 105.2261\n",
            "Epoch 154/200\n",
            "1/1 [==============================] - 0s 20ms/step - loss: 44.8648\n",
            "Epoch 155/200\n",
            "1/1 [==============================] - 0s 28ms/step - loss: 63.0326\n",
            "Epoch 156/200\n",
            "1/1 [==============================] - 0s 21ms/step - loss: 57.1751\n",
            "Epoch 157/200\n",
            "1/1 [==============================] - 0s 23ms/step - loss: 36.8345\n",
            "Epoch 158/200\n",
            "1/1 [==============================] - 0s 22ms/step - loss: 71.0804\n",
            "Epoch 159/200\n",
            "1/1 [==============================] - 0s 22ms/step - loss: 38.4292\n",
            "Epoch 160/200\n",
            "1/1 [==============================] - 0s 29ms/step - loss: 75.4696\n",
            "Epoch 161/200\n",
            "1/1 [==============================] - 0s 25ms/step - loss: 30.5041\n",
            "Epoch 162/200\n",
            "1/1 [==============================] - 0s 23ms/step - loss: 72.8758\n",
            "Epoch 163/200\n",
            "1/1 [==============================] - 0s 25ms/step - loss: 30.1008\n",
            "Epoch 164/200\n",
            "1/1 [==============================] - 0s 30ms/step - loss: 60.2378\n",
            "Epoch 165/200\n",
            "1/1 [==============================] - 0s 25ms/step - loss: 35.6429\n",
            "Epoch 166/200\n",
            "1/1 [==============================] - 0s 23ms/step - loss: 40.2890\n",
            "Epoch 167/200\n",
            "1/1 [==============================] - 0s 24ms/step - loss: 45.0845\n",
            "Epoch 168/200\n",
            "1/1 [==============================] - 0s 22ms/step - loss: 32.1117\n",
            "Epoch 169/200\n",
            "1/1 [==============================] - 0s 24ms/step - loss: 46.4071\n",
            "Epoch 170/200\n",
            "1/1 [==============================] - 0s 22ms/step - loss: 31.4086\n",
            "Epoch 171/200\n",
            "1/1 [==============================] - 0s 21ms/step - loss: 35.4327\n",
            "Epoch 172/200\n",
            "1/1 [==============================] - 0s 27ms/step - loss: 34.8623\n",
            "Epoch 173/200\n",
            "1/1 [==============================] - 0s 21ms/step - loss: 29.1705\n",
            "Epoch 174/200\n",
            "1/1 [==============================] - 0s 24ms/step - loss: 37.6901\n",
            "Epoch 175/200\n",
            "1/1 [==============================] - 0s 35ms/step - loss: 25.5719\n",
            "Epoch 176/200\n",
            "1/1 [==============================] - 0s 41ms/step - loss: 34.0570\n",
            "Epoch 177/200\n",
            "1/1 [==============================] - 0s 27ms/step - loss: 25.6445\n",
            "Epoch 178/200\n",
            "1/1 [==============================] - 0s 20ms/step - loss: 27.7589\n",
            "Epoch 179/200\n",
            "1/1 [==============================] - 0s 32ms/step - loss: 28.7922\n",
            "Epoch 180/200\n",
            "1/1 [==============================] - 0s 25ms/step - loss: 22.9141\n",
            "Epoch 181/200\n",
            "1/1 [==============================] - 0s 27ms/step - loss: 28.1025\n",
            "Epoch 182/200\n",
            "1/1 [==============================] - 0s 35ms/step - loss: 21.7565\n",
            "Epoch 183/200\n",
            "1/1 [==============================] - 0s 27ms/step - loss: 24.4742\n",
            "Epoch 184/200\n",
            "1/1 [==============================] - 0s 24ms/step - loss: 22.2081\n",
            "Epoch 185/200\n",
            "1/1 [==============================] - 0s 26ms/step - loss: 21.4474\n",
            "Epoch 186/200\n",
            "1/1 [==============================] - 0s 23ms/step - loss: 21.6196\n",
            "Epoch 187/200\n",
            "1/1 [==============================] - 0s 29ms/step - loss: 19.4811\n",
            "Epoch 188/200\n",
            "1/1 [==============================] - 0s 25ms/step - loss: 20.8616\n",
            "Epoch 189/200\n",
            "1/1 [==============================] - 0s 24ms/step - loss: 18.7133\n",
            "Epoch 190/200\n",
            "1/1 [==============================] - 0s 28ms/step - loss: 19.8047\n",
            "Epoch 191/200\n",
            "1/1 [==============================] - 0s 27ms/step - loss: 17.9130\n",
            "Epoch 192/200\n",
            "1/1 [==============================] - 0s 19ms/step - loss: 18.7321\n",
            "Epoch 193/200\n",
            "1/1 [==============================] - 0s 40ms/step - loss: 17.1200\n",
            "Epoch 194/200\n",
            "1/1 [==============================] - 0s 27ms/step - loss: 17.7375\n",
            "Epoch 195/200\n",
            "1/1 [==============================] - 0s 22ms/step - loss: 16.3418\n",
            "Epoch 196/200\n",
            "1/1 [==============================] - 0s 21ms/step - loss: 16.7802\n",
            "Epoch 197/200\n",
            "1/1 [==============================] - 0s 21ms/step - loss: 15.5917\n",
            "Epoch 198/200\n",
            "1/1 [==============================] - 0s 28ms/step - loss: 15.6904\n",
            "Epoch 199/200\n",
            "1/1 [==============================] - 0s 28ms/step - loss: 14.8856\n",
            "Epoch 200/200\n",
            "1/1 [==============================] - 0s 24ms/step - loss: 14.5711\n"
          ]
        },
        {
          "data": {
            "text/plain": [
              "<keras.src.callbacks.History at 0x7dab402fd600>"
            ]
          },
          "execution_count": 9,
          "metadata": {},
          "output_type": "execute_result"
        }
      ],
      "source": [
        "model = Sequential()\n",
        "model.add(LSTM(50, activation='relu', return_sequences=True, input_shape=(n_steps, n_features)))\n",
        "model.add(LSTM(50, activation='relu'))\n",
        "model.add(Dense(1))\n",
        "model.compile(optimizer='adam', loss='mse')\n",
        "model.fit(x, y, epochs=200, verbose=1)"
      ]
    },
    {
      "cell_type": "code",
      "execution_count": null,
      "metadata": {
        "colab": {
          "base_uri": "https://localhost:8080/"
        },
        "id": "JIcRt1p3OUnX",
        "outputId": "301c4dc6-8773-40a8-e16d-aa37132481cf"
      },
      "outputs": [
        {
          "name": "stdout",
          "output_type": "stream",
          "text": [
            "[353.16452]\n",
            "1 day input [225.         300.         353.16452026]\n",
            "1 day input [[418.79446]]\n",
            "2 day input [300.         353.16452026 418.79446411]\n",
            "2 day input [[533.27216]]\n",
            "3 day input [353.16452 418.79446 533.27216]\n",
            "3 day input [[645.2775]]\n",
            "4 day input [418.79446 533.27216 645.2775 ]\n",
            "4 day input [[784.1492]]\n",
            "5 day input [533.27216 645.2775  784.1492 ]\n",
            "5 day input [[976.3839]]\n",
            "6 day input [645.2775 784.1492 976.3839]\n",
            "6 day input [[1191.4551]]\n",
            "7 day input [ 784.1492  976.3839 1191.4551]\n",
            "7 day input [[1459.5784]]\n",
            "8 day input [ 976.3839 1191.4551 1459.5784]\n",
            "8 day input [[1802.1812]]\n",
            "9 day input [1191.4551 1459.5784 1802.1812]\n",
            "9 day input [[2206.6523]]\n",
            "[353.16452, 418.79446, 533.27216, 645.2775, 784.1492, 976.3839, 1191.4551, 1459.5784, 1802.1812, 2206.6523]\n"
          ]
        }
      ],
      "source": [
        "# predicting for the next 25 revenue data\n",
        "\n",
        "x_input = np.array([200,225,300])\n",
        "temp_input = list(x_input)\n",
        "output = []\n",
        "\n",
        "i = 0\n",
        "while(i<10):\n",
        "  if(len(temp_input)>3):\n",
        "    x_input = np.array(temp_input[1:])\n",
        "    print(\"{} day input {}\".format(i, x_input))\n",
        "    x_input = x_input.reshape((1, n_steps, n_features))\n",
        "    yhat = model.predict(x_input, verbose=0)\n",
        "    print(\"{} day input {}\".format(i, yhat))\n",
        "    temp_input.append(yhat[0][0])\n",
        "    temp_input = temp_input[1:]\n",
        "    output.append(yhat[0][0])\n",
        "    i = i+1\n",
        "  else:\n",
        "    x_input = x_input.reshape((1, n_steps, n_features))\n",
        "    yhat = model.predict(x_input, verbose=0)\n",
        "    print(yhat[0])\n",
        "    temp_input.append(yhat[0][0])\n",
        "    output.append(yhat[0][0])\n",
        "    i = i+1\n",
        "print(output)"
      ]
    },
    {
      "cell_type": "code",
      "execution_count": null,
      "metadata": {
        "colab": {
          "base_uri": "https://localhost:8080/"
        },
        "id": "_S81kVQqOUqu",
        "outputId": "d88f7aa4-f9c7-4cd2-eed8-ed7468f4d39e"
      },
      "outputs": [
        {
          "data": {
            "text/plain": [
              "[100, 120, 135, 145, 150, 160, 185, 200, 225, 300]"
            ]
          },
          "execution_count": 21,
          "metadata": {},
          "output_type": "execute_result"
        }
      ],
      "source": [
        "timeseries_data"
      ]
    },
    {
      "cell_type": "code",
      "execution_count": null,
      "metadata": {
        "colab": {
          "base_uri": "https://localhost:8080/"
        },
        "id": "ytfD3namOUt6",
        "outputId": "8d378002-e394-48a4-cb06-ce0d91f51d8d"
      },
      "outputs": [
        {
          "data": {
            "text/plain": [
              "[353.16452,\n",
              " 418.79446,\n",
              " 533.27216,\n",
              " 645.2775,\n",
              " 784.1492,\n",
              " 976.3839,\n",
              " 1191.4551,\n",
              " 1459.5784,\n",
              " 1802.1812,\n",
              " 2206.6523]"
            ]
          },
          "execution_count": 22,
          "metadata": {},
          "output_type": "execute_result"
        }
      ],
      "source": [
        "output"
      ]
    },
    {
      "cell_type": "code",
      "execution_count": null,
      "metadata": {
        "colab": {
          "base_uri": "https://localhost:8080/"
        },
        "id": "wuriSMYcXU8R",
        "outputId": "4c24a629-d4c8-4190-d648-a69e434d75d0"
      },
      "outputs": [
        {
          "name": "stdout",
          "output_type": "stream",
          "text": [
            "10\n",
            "10\n"
          ]
        },
        {
          "data": {
            "text/plain": [
              "(None, None)"
            ]
          },
          "execution_count": 23,
          "metadata": {},
          "output_type": "execute_result"
        }
      ],
      "source": [
        "print(len(timeseries_data)), print(len(output))"
      ]
    },
    {
      "cell_type": "code",
      "execution_count": null,
      "metadata": {
        "id": "cS4SItMRWhwB"
      },
      "outputs": [],
      "source": [
        "import matplotlib.pyplot as plt\n",
        "day_new = np.arange(0,10)\n",
        "day_pred = np.arange(10,20)"
      ]
    },
    {
      "cell_type": "code",
      "execution_count": null,
      "metadata": {
        "colab": {
          "base_uri": "https://localhost:8080/",
          "height": 430
        },
        "id": "31l5YGNOOVHo",
        "outputId": "b0c8ce7c-51f8-4674-b59b-0367e9d3feeb"
      },
      "outputs": [
        {
          "data": {
            "image/png": "[encoded data removed]",
            "text/plain": [
              "<Figure size 640x480 with 1 Axes>"
            ]
          },
          "metadata": {},
          "output_type": "display_data"
        }
      ],
      "source": [
        "plt.plot(day_new, timeseries_data)\n",
        "plt.plot(day_pred, output)\n",
        "plt.show()"
      ]
    }
  ]
}